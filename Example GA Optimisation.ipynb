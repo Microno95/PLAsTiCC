{
 "cells": [
  {
   "cell_type": "code",
   "execution_count": 1,
   "metadata": {},
   "outputs": [
    {
     "name": "stdout",
     "output_type": "stream",
     "text": [
      "Populating the interactive namespace from numpy and matplotlib\n"
     ]
    }
   ],
   "source": [
    "%pylab widget"
   ]
  },
  {
   "cell_type": "code",
   "execution_count": 3,
   "metadata": {},
   "outputs": [],
   "source": [
    "import multiprocessing as mp\n",
    "import multiprocessing.pool as mp_pool\n",
    "import optimizers as opt"
   ]
  },
  {
   "cell_type": "code",
   "execution_count": 4,
   "metadata": {},
   "outputs": [],
   "source": [
    "def Heaviside(val, cond):\n",
    "    if cond:\n",
    "        return val\n",
    "    else:\n",
    "        return 0"
   ]
  },
  {
   "cell_type": "code",
   "execution_count": 5,
   "metadata": {},
   "outputs": [],
   "source": [
    "class TemplateIndividual(opt.Individual):\n",
    "    parameter_names = ['x', 'y', 'z'] # x,y are continuous, z is discrete\n",
    "\n",
    "    def __init__(self, x, y, z):\n",
    "        self.is_fitness_computed = False\n",
    "        self.parameters = {'x': x, 'y': y, 'z': z}\n",
    "        self.fitness = 0\n",
    "\n",
    "    def get_fitness(self) -> float:\n",
    "        if not self.is_fitness_computed:\n",
    "            if self.parameters['z'] == 'dagger':\n",
    "                self.fitness = self.parameters['x'] + self.parameters['y'] - Heaviside(1, self.parameters['x'] > 0) * self.parameters['x'] * self.parameters['y']\n",
    "            elif self.parameters['z'] == 'matrix':\n",
    "                self.fitness = self.parameters['x']**2 + self.parameters['y']**3 - Heaviside(1, self.parameters['x'] <= 0) * self.parameters['x'] * self.parameters['y']\n",
    "            else:\n",
    "                self.fitness = self.parameters['x'] + self.parameters['y'] + 1000.0\n",
    "            self.is_fitness_computed = True\n",
    "        return self.fitness\n",
    "\n",
    "    @classmethod\n",
    "    def get_parameter_names(cls):\n",
    "        return cls.parameter_names\n",
    "    "
   ]
  },
  {
   "cell_type": "code",
   "execution_count": 6,
   "metadata": {},
   "outputs": [
    {
     "data": {
      "application/vnd.jupyter.widget-view+json": {
       "model_id": "868569955e694c45b601fcd90101dab9",
       "version_major": 2,
       "version_minor": 0
      },
      "text/plain": [
       "HBox(children=(IntProgress(value=0, max=499865), HTML(value='')))"
      ]
     },
     "metadata": {},
     "output_type": "display_data"
    },
    {
     "name": "stdout",
     "output_type": "stream",
     "text": []
    },
    {
     "name": "stdout",
     "output_type": "stream",
     "text": []
    },
    {
     "name": "stdout",
     "output_type": "stream",
     "text": []
    },
    {
     "name": "stdout",
     "output_type": "stream",
     "text": []
    },
    {
     "name": "stdout",
     "output_type": "stream",
     "text": []
    },
    {
     "name": "stdout",
     "output_type": "stream",
     "text": []
    },
    {
     "name": "stdout",
     "output_type": "stream",
     "text": []
    },
    {
     "name": "stdout",
     "output_type": "stream",
     "text": []
    },
    {
     "name": "stdout",
     "output_type": "stream",
     "text": []
    },
    {
     "name": "stdout",
     "output_type": "stream",
     "text": [
      "\n",
      "TemplateIndividual with 3 parameters: x=-5.39377155141417,y=-9.999591459380886,z=matrix & fitness:-1024.7201832118885\n",
      "TemplateIndividual with 3 parameters: x=-5.39377155141417,y=-9.999591459380886,z=matrix & fitness:-1024.7201832118885\n",
      "TemplateIndividual with 3 parameters: x=-5.39377155141417,y=-9.999591459380886,z=matrix & fitness:-1024.7201832118885\n",
      "TemplateIndividual with 3 parameters: x=-5.39377155141417,y=-9.999591459380886,z=matrix & fitness:-1024.7201832118885\n",
      "TemplateIndividual with 3 parameters: x=-5.39377155141417,y=-9.999591459380886,z=matrix & fitness:-1024.7201832118885\n"
     ]
    }
   ],
   "source": [
    "parameter_space = {\"x\": opt.RandomGenerator(float, [-10, 10], choice=False),\n",
    "                   \"y\": opt.RandomGenerator(float, [-10, 10], choice=False),\n",
    "                   \"z\": opt.RandomGenerator(str, ['matrix', 'dagger', 'other'], choice=True)}\n",
    "\n",
    "TemplateOptimizer = opt.GAOptimizer(TemplateIndividual, 50000, parameter_space, 15, 0.1)\n",
    "\n",
    "with mp_pool.ThreadPool(processes=12) as pool:\n",
    "    TemplateOptimizer.evolve_multigeneration(10, verbose=0, pool=pool)\n",
    "\n",
    "for i in TemplateOptimizer[0:5]:\n",
    "    print(str(i))"
   ]
  },
  {
   "cell_type": "code",
   "execution_count": null,
   "metadata": {},
   "outputs": [],
   "source": []
  }
 ],
 "metadata": {
  "kernelspec": {
   "display_name": "Python 3",
   "language": "python",
   "name": "python3"
  },
  "language_info": {
   "codemirror_mode": {
    "name": "ipython",
    "version": 3
   },
   "file_extension": ".py",
   "mimetype": "text/x-python",
   "name": "python",
   "nbconvert_exporter": "python",
   "pygments_lexer": "ipython3",
   "version": "3.6.6"
  }
 },
 "nbformat": 4,
 "nbformat_minor": 2
}
