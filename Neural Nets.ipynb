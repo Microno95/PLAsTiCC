{
 "cells": [
  {
   "cell_type": "code",
   "execution_count": 1,
   "metadata": {},
   "outputs": [
    {
     "name": "stdout",
     "output_type": "stream",
     "text": [
      "Populating the interactive namespace from numpy and matplotlib\n"
     ]
    }
   ],
   "source": [
    "%pylab widget"
   ]
  },
  {
   "cell_type": "code",
   "execution_count": 42,
   "metadata": {},
   "outputs": [],
   "source": [
    "import os\n",
    "import sys\n",
    "import tqdm\n",
    "import multiprocessing as mp\n",
    "import multiprocessing.pool as mp_pool\n",
    "import optimizers as opt\n",
    "import uuid"
   ]
  },
  {
   "cell_type": "code",
   "execution_count": 3,
   "metadata": {},
   "outputs": [],
   "source": [
    "def Heaviside(val, cond):\n",
    "    if cond:\n",
    "        return val\n",
    "    else:\n",
    "        return 0"
   ]
  },
  {
   "cell_type": "code",
   "execution_count": 146,
   "metadata": {},
   "outputs": [],
   "source": [
    "Num_Days = 16384\n",
    "Num_Days_Input = 1\n",
    "Num_Features = 10\n",
    "Num_Output_Features = 1\n",
    "\n",
    "train_test_ratio = 0.75\n",
    "val_test_ratio = 0.125\n",
    "\n",
    "np.random.seed(1)\n",
    "dataX, dataY = np.random.rand(*(Num_Days, Num_Features)), np.random.rand(*(Num_Days, Num_Output_Features))"
   ]
  },
  {
   "cell_type": "code",
   "execution_count": 153,
   "metadata": {},
   "outputs": [],
   "source": [
    "class NNIndividual(opt.Individual):\n",
    "    parameter_names = ['optimizer', 'loss', 'dense_input_units_count', 'dense_activation', \n",
    "                       'l2_reg_parameter', 'l1_reg_parameter',\n",
    "                       'training_epochs', 'batch_size']\n",
    "    \n",
    "    def __init__(self, optimizer, loss, dense_input_units_count, dense_activation, l2_reg_parameter, l1_reg_parameter, \n",
    "                 training_epochs, batch_size):\n",
    "        self.parameters = {'optimizer': optimizer, 'loss': loss, \n",
    "                           'dense_input_units_count': dense_input_units_count,\n",
    "                           'dense_activation': dense_activation,\n",
    "                           'l2_reg_parameter': l2_reg_parameter,\n",
    "                           'l1_reg_parameter': l1_reg_parameter,\n",
    "                           'training_epochs': training_epochs,\n",
    "                           'batch_size': batch_size}\n",
    "        self.is_fitness_computed = False\n",
    "        self.model_dir = os.path.join(\"temp/\", str(uuid.uuid1())+\"/\")\n",
    "        os.mkdir(self.model_dir)\n",
    "        self.model_name = os.path.join(self.model_dir, \"model.{epoch:02d}-{val_loss:.2f}.hdf5\")\n",
    "        \n",
    "    def mp_model_and_fit_process(self, model_name, model_dir, dataX, dataY, kwargs):\n",
    "        import sys\n",
    "        import os\n",
    "        stdout = sys.stdout\n",
    "        sys.stdout = open(os.devnull, 'w')\n",
    "        stderr = sys.stderr\n",
    "        sys.stderr = open(os.devnull, 'w')\n",
    "        try:\n",
    "            import warnings \n",
    "            with warnings.catch_warnings(): \n",
    "                warnings.filterwarnings(\"ignore\",category=FutureWarning)\n",
    "                import keras\n",
    "                from keras.preprocessing.sequence import TimeseriesGenerator\n",
    "                sys.stdout = stdout\n",
    "                sys.stderr = stderr\n",
    "                import keras.backend as K\n",
    "                import tensorflow as tf\n",
    "                import gc\n",
    "            \n",
    "            end_index = int(train_test_ratio*dataX.shape[0])\n",
    "            end_index -= end_index % kwargs['batch_size']\n",
    "            if end_index <= 0:\n",
    "                end_index = kwargs['batch_size']\n",
    "                \n",
    "            end_index_val = int(val_test_ratio*(dataX.shape[0] - end_index))\n",
    "            end_index_val -= end_index_val % kwargs['batch_size']\n",
    "            if end_index_val <= 0:\n",
    "                end_index_val = kwargs['batch_size']\n",
    "                \n",
    "            train_gen = TimeseriesGenerator(dataX, dataY, \n",
    "                                            length=Num_Days_Input,\n",
    "                                            sampling_rate=1,\n",
    "                                            stride=1,\n",
    "                                            batch_size=kwargs['batch_size'],\n",
    "                                            end_index=end_index)\n",
    "            \n",
    "            val_gen = TimeseriesGenerator(dataX, dataY,\n",
    "                                          length=Num_Days_Input,\n",
    "                                          sampling_rate=1,\n",
    "                                          stride=1,\n",
    "                                          batch_size=kwargs['batch_size'],\n",
    "                                          start_index=end_index+1,\n",
    "                                          end_index=end_index_val + end_index)\n",
    "            \n",
    "            test_gen = TimeseriesGenerator(dataX, dataY, \n",
    "                                           length=Num_Days_Input,\n",
    "                                           sampling_rate=1,\n",
    "                                           stride=1,\n",
    "                                           batch_size=kwargs['batch_size'],\n",
    "                                           start_index=end_index_val + end_index,\n",
    "                                           end_index=dataX.shape[0]-1)\n",
    "            \n",
    "            input_layer = keras.layers.Input(shape=train_gen[0][0].shape[1:])\n",
    "            dense_layer = keras.layers.Dense(kwargs['dense_input_units_count'], activation=kwargs['dense_activation'],\n",
    "                                              kernel_regularizer=keras.regularizers.l2(kwargs['l2_reg_parameter']),\n",
    "                                              activity_regularizer=keras.regularizers.l1(kwargs['l1_reg_parameter']))(input_layer)\n",
    "\n",
    "            reshape_layer = keras.layers.LSTM(kwargs['dense_input_units_count'], activation=kwargs['dense_activation'],\n",
    "                                              kernel_regularizer=keras.regularizers.l2(kwargs['l2_reg_parameter']),\n",
    "                                              activity_regularizer=keras.regularizers.l1(kwargs['l1_reg_parameter']))(dense_layer)\n",
    "            \n",
    "            output_layer = keras.layers.Dense(train_gen[0][1].shape[-1], activation=\"linear\")(reshape_layer)\n",
    "            model = keras.models.Model(inputs=input_layer, outputs=output_layer)\n",
    "            model.compile(loss=kwargs['loss'], optimizer=kwargs['optimizer'])\n",
    "            \n",
    "#             model.summary()\n",
    "            test_csv_cb = keras.callbacks.CSVLogger(os.path.join(model_dir, 'progress.csv'), separator=',', append=False)\n",
    "            early_stopping_cb = keras.callbacks.EarlyStopping(patience=10, monitor='val_loss')\n",
    "            model_saver_cb = keras.callbacks.ModelCheckpoint(model_name, monitor='val_loss', verbose=0, save_best_only=True, save_weights_only=False, mode='auto', period=1)\n",
    "            model.fit_generator(train_gen, validation_data=val_gen, epochs=kwargs['training_epochs'], verbose=0, \n",
    "                                callbacks=[early_stopping_cb, model_saver_cb,test_csv_cb], workers=1, use_multiprocessing=False)\n",
    "            model.save(model_name)\n",
    "\n",
    "            gc.collect()\n",
    "     \n",
    "            print(model.predict_generator(test_gen).shape)\n",
    "\n",
    "            return model.evaluate_generator(test_gen)\n",
    "        except Exception as e:\n",
    "            sys.stdout = stdout\n",
    "            sys.stderr = stderr\n",
    "            raise e      \n",
    "    \n",
    "    def mp_model_and_predict(self, model_name, test_values):\n",
    "        try: \n",
    "            import warnings \n",
    "            with warnings.catch_warnings(): \n",
    "                warnings.filterwarnings(\"ignore\",category=FutureWarning)\n",
    "                import keras\n",
    "                import keras.backend as K\n",
    "                import gc\n",
    "            model = keras.models.load_model(model_name)\n",
    "\n",
    "            gc.collect()\n",
    "\n",
    "            return model.predict(test_values)\n",
    "        except Exception as e:\n",
    "            raise e \n",
    "    \n",
    "    def get_fitness(self):\n",
    "        if not self.is_fitness_computed:\n",
    "            try:\n",
    "                with mp.Pool(processes=1) as pool:\n",
    "                    self.fitness_value = pool.apply(self.mp_model_and_fit_process, (self.model_name, self.model_dir, dataX, dataY, self.parameters))\n",
    "            except:\n",
    "                raise\n",
    "            else:\n",
    "                self.is_fitness_computed = True\n",
    "        return self.fitness_value\n",
    "    \n",
    "    def predict(self, test_values):\n",
    "        if not self.is_fitness_computed:\n",
    "            try:\n",
    "                self.get_fitness()\n",
    "            except:\n",
    "                raise\n",
    "        try:\n",
    "            with mp.Pool(processes=1) as pool:\n",
    "                predictions = pool.apply(self.mp_model_and_predict, (self.model_name, test_values))\n",
    "        except:\n",
    "            raise\n",
    "        else:\n",
    "            return predictions"
   ]
  },
  {
   "cell_type": "code",
   "execution_count": 154,
   "metadata": {},
   "outputs": [],
   "source": [
    "parameter_space = {'optimizer': opt.RandomGenerator(str, ['rmsprop', 'adam'], True), \n",
    "                   'loss': opt.RandomGenerator(str, ['mse'], True), \n",
    "                   'dense_input_units_count': opt.RandomGenerator(int, [i*2 + 32 for i in range(17)]),\n",
    "                   'dense_activation': opt.RandomGenerator(str, ['selu', 'linear', 'relu', 'tanh'], True),\n",
    "                   'l2_reg_parameter': opt.RandomGenerator(float, [1e-4, 1e-3], False),\n",
    "                   'l1_reg_parameter': opt.RandomGenerator(float, [1e-5, 1e-4], False),\n",
    "                   'training_epochs': opt.RandomGenerator(int, list(range(10, 200, 10)), True),\n",
    "                   'batch_size': opt.RandomGenerator(int, [128, 256, 512, 1024, 2048], True)\n",
    "                  }\n",
    "\n",
    "NNOptimizer = opt.GAOptimizer(NNIndividual, 10, parameter_space, 3, 0.1)"
   ]
  },
  {
   "cell_type": "code",
   "execution_count": 155,
   "metadata": {},
   "outputs": [
    {
     "data": {
      "application/vnd.jupyter.widget-view+json": {
       "model_id": "8a98ea016ea24e6bbd9e754a4b27c7f0",
       "version_major": 2,
       "version_minor": 0
      },
      "text/plain": [
       "HBox(children=(IntProgress(value=0, max=73), HTML(value='')))"
      ]
     },
     "metadata": {},
     "output_type": "display_data"
    },
    {
     "name": "stdout",
     "output_type": "stream",
     "text": []
    },
    {
     "name": "stdout",
     "output_type": "stream",
     "text": [
      "(3071, 1)\n",
      "(3583, 1)\n",
      "\n"
     ]
    },
    {
     "ename": "KeyboardInterrupt",
     "evalue": "",
     "output_type": "error",
     "traceback": [
      "\u001b[0;31m---------------------------------------------------------------------------\u001b[0m",
      "\u001b[0;31mKeyboardInterrupt\u001b[0m                         Traceback (most recent call last)",
      "\u001b[0;32m<ipython-input-155-e421717a682b>\u001b[0m in \u001b[0;36m<module>\u001b[0;34m()\u001b[0m\n\u001b[1;32m      1\u001b[0m \u001b[0;32mwith\u001b[0m \u001b[0mmp_pool\u001b[0m\u001b[0;34m.\u001b[0m\u001b[0mThreadPool\u001b[0m\u001b[0;34m(\u001b[0m\u001b[0mprocesses\u001b[0m\u001b[0;34m=\u001b[0m\u001b[0;36m12\u001b[0m\u001b[0;34m)\u001b[0m \u001b[0;32mas\u001b[0m \u001b[0mpool\u001b[0m\u001b[0;34m:\u001b[0m\u001b[0;34m\u001b[0m\u001b[0m\n\u001b[0;32m----> 2\u001b[0;31m     \u001b[0mNNOptimizer\u001b[0m\u001b[0;34m.\u001b[0m\u001b[0mevolve_multigeneration\u001b[0m\u001b[0;34m(\u001b[0m\u001b[0;36m10\u001b[0m\u001b[0;34m,\u001b[0m \u001b[0mverbose\u001b[0m\u001b[0;34m=\u001b[0m\u001b[0;36m0\u001b[0m\u001b[0;34m)\u001b[0m\u001b[0;34m\u001b[0m\u001b[0m\n\u001b[0m\u001b[1;32m      3\u001b[0m \u001b[0;34m\u001b[0m\u001b[0m\n\u001b[1;32m      4\u001b[0m \u001b[0;32mfor\u001b[0m \u001b[0mi\u001b[0m \u001b[0;32min\u001b[0m \u001b[0mTemplateOptimizer\u001b[0m\u001b[0;34m[\u001b[0m\u001b[0;36m0\u001b[0m\u001b[0;34m:\u001b[0m\u001b[0;36m5\u001b[0m\u001b[0;34m]\u001b[0m\u001b[0;34m:\u001b[0m\u001b[0;34m\u001b[0m\u001b[0m\n\u001b[1;32m      5\u001b[0m     \u001b[0mprint\u001b[0m\u001b[0;34m(\u001b[0m\u001b[0mstr\u001b[0m\u001b[0;34m(\u001b[0m\u001b[0mi\u001b[0m\u001b[0;34m)\u001b[0m\u001b[0;34m)\u001b[0m\u001b[0;34m\u001b[0m\u001b[0m\n",
      "\u001b[0;32m~/Documents/Kaggle PLAsTiCC/optimizers.py\u001b[0m in \u001b[0;36mevolve_multigeneration\u001b[0;34m(self, num_generations, verbose, pool)\u001b[0m\n\u001b[1;32m    115\u001b[0m                 \u001b[0;32melse\u001b[0m\u001b[0;34m:\u001b[0m\u001b[0;34m\u001b[0m\u001b[0m\n\u001b[1;32m    116\u001b[0m                     \u001b[0;32mfor\u001b[0m \u001b[0midx\u001b[0m\u001b[0;34m,\u001b[0m\u001b[0mindividual\u001b[0m \u001b[0;32min\u001b[0m \u001b[0menumerate\u001b[0m\u001b[0;34m(\u001b[0m\u001b[0;34m(\u001b[0m\u001b[0mi\u001b[0m \u001b[0;32mfor\u001b[0m \u001b[0mi\u001b[0m\u001b[0;34m,\u001b[0m\u001b[0mv\u001b[0m \u001b[0;32min\u001b[0m \u001b[0mzip\u001b[0m\u001b[0;34m(\u001b[0m\u001b[0mself\u001b[0m\u001b[0;34m.\u001b[0m\u001b[0mpopulation\u001b[0m\u001b[0;34m,\u001b[0m \u001b[0mpopulation_mask\u001b[0m\u001b[0;34m)\u001b[0m \u001b[0;32mif\u001b[0m \u001b[0mv\u001b[0m\u001b[0;34m)\u001b[0m\u001b[0;34m)\u001b[0m\u001b[0;34m:\u001b[0m\u001b[0;34m\u001b[0m\u001b[0m\n\u001b[0;32m--> 117\u001b[0;31m                         \u001b[0mindividual\u001b[0m\u001b[0;34m.\u001b[0m\u001b[0mget_fitness\u001b[0m\u001b[0;34m(\u001b[0m\u001b[0;34m)\u001b[0m\u001b[0;34m\u001b[0m\u001b[0m\n\u001b[0m\u001b[1;32m    118\u001b[0m                         \u001b[0mpopulation_mask\u001b[0m\u001b[0;34m[\u001b[0m\u001b[0midx\u001b[0m\u001b[0;34m]\u001b[0m \u001b[0;34m=\u001b[0m \u001b[0;32mFalse\u001b[0m\u001b[0;34m\u001b[0m\u001b[0m\n\u001b[1;32m    119\u001b[0m                         \u001b[0mpopulation_iter\u001b[0m\u001b[0;34m.\u001b[0m\u001b[0mupdate\u001b[0m\u001b[0;34m(\u001b[0m\u001b[0;34m)\u001b[0m\u001b[0;34m\u001b[0m\u001b[0m\n",
      "\u001b[0;32m<ipython-input-153-799c07f2b532>\u001b[0m in \u001b[0;36mget_fitness\u001b[0;34m(self)\u001b[0m\n\u001b[1;32m    121\u001b[0m             \u001b[0;32mtry\u001b[0m\u001b[0;34m:\u001b[0m\u001b[0;34m\u001b[0m\u001b[0m\n\u001b[1;32m    122\u001b[0m                 \u001b[0;32mwith\u001b[0m \u001b[0mmp\u001b[0m\u001b[0;34m.\u001b[0m\u001b[0mPool\u001b[0m\u001b[0;34m(\u001b[0m\u001b[0mprocesses\u001b[0m\u001b[0;34m=\u001b[0m\u001b[0;36m1\u001b[0m\u001b[0;34m)\u001b[0m \u001b[0;32mas\u001b[0m \u001b[0mpool\u001b[0m\u001b[0;34m:\u001b[0m\u001b[0;34m\u001b[0m\u001b[0m\n\u001b[0;32m--> 123\u001b[0;31m                     \u001b[0mself\u001b[0m\u001b[0;34m.\u001b[0m\u001b[0mfitness_value\u001b[0m \u001b[0;34m=\u001b[0m \u001b[0mpool\u001b[0m\u001b[0;34m.\u001b[0m\u001b[0mapply\u001b[0m\u001b[0;34m(\u001b[0m\u001b[0mself\u001b[0m\u001b[0;34m.\u001b[0m\u001b[0mmp_model_and_fit_process\u001b[0m\u001b[0;34m,\u001b[0m \u001b[0;34m(\u001b[0m\u001b[0mself\u001b[0m\u001b[0;34m.\u001b[0m\u001b[0mmodel_name\u001b[0m\u001b[0;34m,\u001b[0m \u001b[0mself\u001b[0m\u001b[0;34m.\u001b[0m\u001b[0mmodel_dir\u001b[0m\u001b[0;34m,\u001b[0m \u001b[0mdataX\u001b[0m\u001b[0;34m,\u001b[0m \u001b[0mdataY\u001b[0m\u001b[0;34m,\u001b[0m \u001b[0mself\u001b[0m\u001b[0;34m.\u001b[0m\u001b[0mparameters\u001b[0m\u001b[0;34m)\u001b[0m\u001b[0;34m)\u001b[0m\u001b[0;34m\u001b[0m\u001b[0m\n\u001b[0m\u001b[1;32m    124\u001b[0m             \u001b[0;32mexcept\u001b[0m\u001b[0;34m:\u001b[0m\u001b[0;34m\u001b[0m\u001b[0m\n\u001b[1;32m    125\u001b[0m                 \u001b[0;32mraise\u001b[0m\u001b[0;34m\u001b[0m\u001b[0m\n",
      "\u001b[0;32m~/anaconda3/lib/python3.6/multiprocessing/pool.py\u001b[0m in \u001b[0;36mapply\u001b[0;34m(self, func, args, kwds)\u001b[0m\n\u001b[1;32m    257\u001b[0m         '''\n\u001b[1;32m    258\u001b[0m         \u001b[0;32massert\u001b[0m \u001b[0mself\u001b[0m\u001b[0;34m.\u001b[0m\u001b[0m_state\u001b[0m \u001b[0;34m==\u001b[0m \u001b[0mRUN\u001b[0m\u001b[0;34m\u001b[0m\u001b[0m\n\u001b[0;32m--> 259\u001b[0;31m         \u001b[0;32mreturn\u001b[0m \u001b[0mself\u001b[0m\u001b[0;34m.\u001b[0m\u001b[0mapply_async\u001b[0m\u001b[0;34m(\u001b[0m\u001b[0mfunc\u001b[0m\u001b[0;34m,\u001b[0m \u001b[0margs\u001b[0m\u001b[0;34m,\u001b[0m \u001b[0mkwds\u001b[0m\u001b[0;34m)\u001b[0m\u001b[0;34m.\u001b[0m\u001b[0mget\u001b[0m\u001b[0;34m(\u001b[0m\u001b[0;34m)\u001b[0m\u001b[0;34m\u001b[0m\u001b[0m\n\u001b[0m\u001b[1;32m    260\u001b[0m \u001b[0;34m\u001b[0m\u001b[0m\n\u001b[1;32m    261\u001b[0m     \u001b[0;32mdef\u001b[0m \u001b[0mmap\u001b[0m\u001b[0;34m(\u001b[0m\u001b[0mself\u001b[0m\u001b[0;34m,\u001b[0m \u001b[0mfunc\u001b[0m\u001b[0;34m,\u001b[0m \u001b[0miterable\u001b[0m\u001b[0;34m,\u001b[0m \u001b[0mchunksize\u001b[0m\u001b[0;34m=\u001b[0m\u001b[0;32mNone\u001b[0m\u001b[0;34m)\u001b[0m\u001b[0;34m:\u001b[0m\u001b[0;34m\u001b[0m\u001b[0m\n",
      "\u001b[0;32m~/anaconda3/lib/python3.6/multiprocessing/pool.py\u001b[0m in \u001b[0;36mget\u001b[0;34m(self, timeout)\u001b[0m\n\u001b[1;32m    636\u001b[0m \u001b[0;34m\u001b[0m\u001b[0m\n\u001b[1;32m    637\u001b[0m     \u001b[0;32mdef\u001b[0m \u001b[0mget\u001b[0m\u001b[0;34m(\u001b[0m\u001b[0mself\u001b[0m\u001b[0;34m,\u001b[0m \u001b[0mtimeout\u001b[0m\u001b[0;34m=\u001b[0m\u001b[0;32mNone\u001b[0m\u001b[0;34m)\u001b[0m\u001b[0;34m:\u001b[0m\u001b[0;34m\u001b[0m\u001b[0m\n\u001b[0;32m--> 638\u001b[0;31m         \u001b[0mself\u001b[0m\u001b[0;34m.\u001b[0m\u001b[0mwait\u001b[0m\u001b[0;34m(\u001b[0m\u001b[0mtimeout\u001b[0m\u001b[0;34m)\u001b[0m\u001b[0;34m\u001b[0m\u001b[0m\n\u001b[0m\u001b[1;32m    639\u001b[0m         \u001b[0;32mif\u001b[0m \u001b[0;32mnot\u001b[0m \u001b[0mself\u001b[0m\u001b[0;34m.\u001b[0m\u001b[0mready\u001b[0m\u001b[0;34m(\u001b[0m\u001b[0;34m)\u001b[0m\u001b[0;34m:\u001b[0m\u001b[0;34m\u001b[0m\u001b[0m\n\u001b[1;32m    640\u001b[0m             \u001b[0;32mraise\u001b[0m \u001b[0mTimeoutError\u001b[0m\u001b[0;34m\u001b[0m\u001b[0m\n",
      "\u001b[0;32m~/anaconda3/lib/python3.6/multiprocessing/pool.py\u001b[0m in \u001b[0;36mwait\u001b[0;34m(self, timeout)\u001b[0m\n\u001b[1;32m    633\u001b[0m \u001b[0;34m\u001b[0m\u001b[0m\n\u001b[1;32m    634\u001b[0m     \u001b[0;32mdef\u001b[0m \u001b[0mwait\u001b[0m\u001b[0;34m(\u001b[0m\u001b[0mself\u001b[0m\u001b[0;34m,\u001b[0m \u001b[0mtimeout\u001b[0m\u001b[0;34m=\u001b[0m\u001b[0;32mNone\u001b[0m\u001b[0;34m)\u001b[0m\u001b[0;34m:\u001b[0m\u001b[0;34m\u001b[0m\u001b[0m\n\u001b[0;32m--> 635\u001b[0;31m         \u001b[0mself\u001b[0m\u001b[0;34m.\u001b[0m\u001b[0m_event\u001b[0m\u001b[0;34m.\u001b[0m\u001b[0mwait\u001b[0m\u001b[0;34m(\u001b[0m\u001b[0mtimeout\u001b[0m\u001b[0;34m)\u001b[0m\u001b[0;34m\u001b[0m\u001b[0m\n\u001b[0m\u001b[1;32m    636\u001b[0m \u001b[0;34m\u001b[0m\u001b[0m\n\u001b[1;32m    637\u001b[0m     \u001b[0;32mdef\u001b[0m \u001b[0mget\u001b[0m\u001b[0;34m(\u001b[0m\u001b[0mself\u001b[0m\u001b[0;34m,\u001b[0m \u001b[0mtimeout\u001b[0m\u001b[0;34m=\u001b[0m\u001b[0;32mNone\u001b[0m\u001b[0;34m)\u001b[0m\u001b[0;34m:\u001b[0m\u001b[0;34m\u001b[0m\u001b[0m\n",
      "\u001b[0;32m~/anaconda3/lib/python3.6/threading.py\u001b[0m in \u001b[0;36mwait\u001b[0;34m(self, timeout)\u001b[0m\n\u001b[1;32m    549\u001b[0m             \u001b[0msignaled\u001b[0m \u001b[0;34m=\u001b[0m \u001b[0mself\u001b[0m\u001b[0;34m.\u001b[0m\u001b[0m_flag\u001b[0m\u001b[0;34m\u001b[0m\u001b[0m\n\u001b[1;32m    550\u001b[0m             \u001b[0;32mif\u001b[0m \u001b[0;32mnot\u001b[0m \u001b[0msignaled\u001b[0m\u001b[0;34m:\u001b[0m\u001b[0;34m\u001b[0m\u001b[0m\n\u001b[0;32m--> 551\u001b[0;31m                 \u001b[0msignaled\u001b[0m \u001b[0;34m=\u001b[0m \u001b[0mself\u001b[0m\u001b[0;34m.\u001b[0m\u001b[0m_cond\u001b[0m\u001b[0;34m.\u001b[0m\u001b[0mwait\u001b[0m\u001b[0;34m(\u001b[0m\u001b[0mtimeout\u001b[0m\u001b[0;34m)\u001b[0m\u001b[0;34m\u001b[0m\u001b[0m\n\u001b[0m\u001b[1;32m    552\u001b[0m             \u001b[0;32mreturn\u001b[0m \u001b[0msignaled\u001b[0m\u001b[0;34m\u001b[0m\u001b[0m\n\u001b[1;32m    553\u001b[0m \u001b[0;34m\u001b[0m\u001b[0m\n",
      "\u001b[0;32m~/anaconda3/lib/python3.6/threading.py\u001b[0m in \u001b[0;36mwait\u001b[0;34m(self, timeout)\u001b[0m\n\u001b[1;32m    293\u001b[0m         \u001b[0;32mtry\u001b[0m\u001b[0;34m:\u001b[0m    \u001b[0;31m# restore state no matter what (e.g., KeyboardInterrupt)\u001b[0m\u001b[0;34m\u001b[0m\u001b[0m\n\u001b[1;32m    294\u001b[0m             \u001b[0;32mif\u001b[0m \u001b[0mtimeout\u001b[0m \u001b[0;32mis\u001b[0m \u001b[0;32mNone\u001b[0m\u001b[0;34m:\u001b[0m\u001b[0;34m\u001b[0m\u001b[0m\n\u001b[0;32m--> 295\u001b[0;31m                 \u001b[0mwaiter\u001b[0m\u001b[0;34m.\u001b[0m\u001b[0macquire\u001b[0m\u001b[0;34m(\u001b[0m\u001b[0;34m)\u001b[0m\u001b[0;34m\u001b[0m\u001b[0m\n\u001b[0m\u001b[1;32m    296\u001b[0m                 \u001b[0mgotit\u001b[0m \u001b[0;34m=\u001b[0m \u001b[0;32mTrue\u001b[0m\u001b[0;34m\u001b[0m\u001b[0m\n\u001b[1;32m    297\u001b[0m             \u001b[0;32melse\u001b[0m\u001b[0;34m:\u001b[0m\u001b[0;34m\u001b[0m\u001b[0m\n",
      "\u001b[0;31mKeyboardInterrupt\u001b[0m: "
     ]
    }
   ],
   "source": [
    "with mp_pool.ThreadPool(processes=12) as pool:\n",
    "    NNOptimizer.evolve_multigeneration(10, verbose=0)\n",
    "\n",
    "for i in TemplateOptimizer[0:5]:\n",
    "    print(str(i))"
   ]
  },
  {
   "cell_type": "code",
   "execution_count": null,
   "metadata": {},
   "outputs": [],
   "source": []
  }
 ],
 "metadata": {
  "kernelspec": {
   "display_name": "Python 3",
   "language": "python",
   "name": "python3"
  },
  "language_info": {
   "codemirror_mode": {
    "name": "ipython",
    "version": 3
   },
   "file_extension": ".py",
   "mimetype": "text/x-python",
   "name": "python",
   "nbconvert_exporter": "python",
   "pygments_lexer": "ipython3",
   "version": "3.6.6"
  }
 },
 "nbformat": 4,
 "nbformat_minor": 2
}
